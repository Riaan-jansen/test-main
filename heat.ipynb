{
 "cells": [
  {
   "cell_type": "code",
   "execution_count": 79,
   "metadata": {},
   "outputs": [],
   "source": [
    "# script to convert FLUKA energy deposition to heat\n",
    "import numpy as np\n",
    "import pandas as pd\n",
    "from decimal import Decimal"
   ]
  },
  {
   "cell_type": "code",
   "execution_count": 100,
   "metadata": {},
   "outputs": [
    {
     "name": "stdout",
     "output_type": "stream",
     "text": [
      "REGION   :: Heat (W)   +/- Standard Deviation\n",
      "----------------------------------\n",
      "BLKBODY  :: 1.4401e+02 +/- 1.5012e-01\n",
      "VOID     :: 0.0000e+00 +/- 0.0000e+00\n",
      "WATER    :: 9.7696e+02 +/- 5.4334e+01\n",
      "BASE     :: 5.7315e+06 +/- 1.2358e+03\n",
      "SUB      :: 6.7866e+06 +/- 1.1351e+03\n",
      "TARGET   :: 2.4809e+06 +/- 1.7268e+02\n",
      "BLANK    :: 0.0000e+00 +/- 0.0000e+00\n",
      "CAN1     :: 3.0636e+00 +/- 4.2581e-02\n",
      "WATERCNT :: 7.4887e+01 +/- 1.4430e-01\n",
      "RFTR     :: 1.0004e+03 +/- 2.4529e+01\n",
      "CANVOID  :: 0.0000e+00 +/- 0.0000e+00\n",
      "CAN2     :: 8.7359e+02 +/- 7.4283e+01\n",
      "VOIDCONE :: 0.0000e+00 +/- 0.0000e+00\n",
      "DET100   :: 0.0000e+00 +/- 0.0000e+00\n",
      "DET200   :: 0.0000e+00 +/- 0.0000e+00\n",
      "DET300   :: 0.0000e+00 +/- 0.0000e+00\n",
      "DET400   :: 0.0000e+00 +/- 0.0000e+00\n",
      "DET500   :: 0.0000e+00 +/- 0.0000e+00\n",
      "DETOUT   :: 0.0000e+00 +/- 0.0000e+00\n"
     ]
    }
   ],
   "source": [
    "def getFiles(inp):\n",
    "    cycles = 5\n",
    "    start = r\"1Region\"\n",
    "    end = r\"Total (integrated over volume):\"\n",
    "    Energy = []\n",
    "    Region = []\n",
    "    data = []\n",
    "    for i in range(1, cycles+1):\n",
    "        file = inp + f'00{i}.out'\n",
    "        try:\n",
    "            lines = []\n",
    "            with open(file, 'r') as f:\n",
    "                appending = False\n",
    "                for line in f:\n",
    "                    if end in line:\n",
    "                        break\n",
    "                    if start in line:\n",
    "                        appending = True\n",
    "                    if appending is True:\n",
    "                        lines.append(line.split())\n",
    "                lines = lines[4:-1]\n",
    "            data.append(lines)\n",
    "\n",
    "        except FileNotFoundError:\n",
    "            print('File not found')\n",
    "\n",
    "    for line in data:\n",
    "        for row in line:\n",
    "            Region.append(row[1])\n",
    "            erg = float(row[5].replace('D', 'E'))\n",
    "            Energy.append(erg)\n",
    "\n",
    "    dict = {'Region': Region, 'Energy': Energy}\n",
    "    df = pd.DataFrame(dict)\n",
    "\n",
    "    return df\n",
    "\n",
    "\n",
    "def getInfo(inp, vol=1000.0, current=0.006):\n",
    "    df = getFiles(inp)\n",
    "    regions = df['Region'].unique().tolist()\n",
    "    print(r'''REGION   :: Heat (W)   +/- Standard Deviation\n",
    "----------------------------------''')\n",
    "    for region in regions:\n",
    "        values = df['Energy'].where(df['Region'] == region)\n",
    "        mean = erg2heat(values.mean(), vol, current=current)\n",
    "        std = erg2heat(values.std(), vol, current=current)\n",
    "        print(f'{region:8} :: {mean:.4e} +/- {std:.4e}')\n",
    "\n",
    "\n",
    "def erg2heat(val, vol, current=0.006):\n",
    "    '''energy dep * volume * 1.6E-10 [to convert to joules] *\n",
    "    current / charge [equivalent to primaries (real) per time]\n",
    "    == heat (watts)'''\n",
    "    heat = val * 1E9 * current * vol\n",
    "    return heat\n",
    "\n",
    "\n",
    "inp = 'linac_sys_target'\n",
    "getInfo(inp)\n"
   ]
  }
 ],
 "metadata": {
  "kernelspec": {
   "display_name": "Python 3",
   "language": "python",
   "name": "python3"
  },
  "language_info": {
   "codemirror_mode": {
    "name": "ipython",
    "version": 3
   },
   "file_extension": ".py",
   "mimetype": "text/x-python",
   "name": "python",
   "nbconvert_exporter": "python",
   "pygments_lexer": "ipython3",
   "version": "3.11.4"
  }
 },
 "nbformat": 4,
 "nbformat_minor": 2
}
